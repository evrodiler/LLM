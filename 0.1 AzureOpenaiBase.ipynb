{
 "cells": [
  {
   "cell_type": "markdown",
   "id": "a6ec4ea5-c041-4e01-b79c-3ac0594db4cf",
   "metadata": {},
   "source": [
    "> https://python.langchain.com/docs/use_cases/question_answering/quickstart"
   ]
  },
  {
   "cell_type": "code",
   "execution_count": 18,
   "id": "c40e9041-8edb-4aa2-bc07-ba7dff5cbc43",
   "metadata": {},
   "outputs": [],
   "source": [
    "import os\n",
    "import openai\n",
    "\n",
    "from dotenv import load_dotenv, find_dotenv\n",
    "_ = load_dotenv(find_dotenv()) # read local .env file"
   ]
  },
  {
   "cell_type": "code",
   "execution_count": 19,
   "id": "96c8aa8f-571f-40c4-9938-b43fbeb6437f",
   "metadata": {
    "scrolled": true
   },
   "outputs": [
    {
     "name": "stdout",
     "output_type": "stream",
     "text": [
      "TERM_SESSION_ID: 056eb3cd-6ec4-4d56-b3ef-f9bb102b5803\n",
      "COMMONPROGRAMW6432: C:\\Program Files\\Common Files\n",
      "PROGRAMW6432: C:\\Program Files\n",
      "PYCHARM: C:\\Program Files\\JetBrains\\PyCharm 2022.1.1\\bin;\n",
      "USERNAME: user\n",
      "ALLUSERSPROFILE: C:\\ProgramData\n",
      "USERPROFILE: C:\\Users\\user\n",
      "PROCESSOR_REVISION: a502\n",
      "IDEA_INITIAL_DIRECTORY: C:\\Program Files\\JetBrains\\PyCharm Community Edition 2021.3\\bin\n",
      "PUBLIC: C:\\Users\\Public\n",
      "PATH: C:\\Users\\user\\PycharmProjects\\document_qa\\env310\\Scripts;C:\\Program Files (x86)\\Common Files\\Oracle\\Java\\javapath;C:\\Windows\\system32;C:\\Windows;C:\\Windows\\System32\\Wbem;C:\\Windows\\System32\\WindowsPowerShell\\v1.0\\;C:\\Windows\\System32\\OpenSSH\\;C:\\Program Files (x86)\\NVIDIA Corporation\\PhysX\\Common;C:\\Program Files\\NVIDIA Corporation\\NVIDIA NvDLISR;C:\\Program Files (x86)\\Pulse Secure\\VC142.CRT\\X64\\;C:\\Program Files (x86)\\Pulse Secure\\VC142.CRT\\X86\\;C:\\WINDOWS\\system32;C:\\WINDOWS;C:\\WINDOWS\\System32\\Wbem;C:\\WINDOWS\\System32\\WindowsPowerShell\\v1.0\\;C:\\WINDOWS\\System32\\OpenSSH\\;C:\\Program Files\\Git\\cmd;C:\\Program Files\\Kubernetes\\Minikube;C:\\Users\\user\\AppData\\Roaming\\Microsoft\\Windows\\Start Menu\\Programs\\Kubernetes;C:\\Program Files\\Java\\jre1.8.0_351\\bin;C:\\WINDOWS\\system32;C:\\WINDOWS;C:\\WINDOWS\\System32\\Wbem;C:\\WINDOWS\\System32\\WindowsPowerShell\\v1.0\\;C:\\WINDOWS\\System32\\OpenSSH\\;C:\\gradle\\gradle-8.3\\bin;C:\\Program Files\\Docker\\Docker\\resources\\bin;C:\\Program Files\\PuTTY\\;C:\\Program Files (x86)\\Windows Kits\\10\\Windows Performance Toolkit\\;C:\\Users\\user\\AppData\\Local\\Programs\\Python\\Python312\\Scripts\\;C:\\Users\\user\\AppData\\Local\\Programs\\Python\\Python312\\;C:\\Users\\user\\AppData\\Local\\Microsoft\\WindowsApps;C:\\Program Files\\JetBrains\\PyCharm Community Edition 2021.3\\bin;;C:\\Users\\user\\AppData\\Local\\Programs\\Microsoft VS Code\\bin;C:\\Program Files\\JetBrains\\PyCharm 2022.1.1\\bin;;C:\\spark\\bin;c:\\jdk\\bin;C:\\winutils\\bin;\n",
      "DRIVERDATA: C:\\Windows\\System32\\Drivers\\DriverData\n",
      "PYSPARK_PYTHON: C:\\Users\\user\\anaconda3\\envs\\python37\\python.exe\n",
      "HOMEDRIVE: C:\n",
      "SESSIONNAME: Console\n",
      "LOGONSERVER: \\\\IS95217\n",
      "TERMINAL_EMULATOR: JetBrains-JediTerm\n",
      "__PSLOCKDOWNPOLICY: 0\n",
      "HOMEPATH: \\Users\\user\n",
      "SYSTEMROOT: C:\\WINDOWS\n",
      "_OLD_VIRTUAL_PROMPT: $P$G\n",
      "SPARK_HOME: C:\\spark\n",
      "LOCALAPPDATA: C:\\Users\\user\\AppData\\Local\n",
      "APPDATA: C:\\Users\\user\\AppData\\Roaming\n",
      "PROCESSOR_IDENTIFIER: Intel64 Family 6 Model 165 Stepping 2, GenuineIntel\n",
      "HADOOP_HOME: C:\\winutils\n",
      "PATHEXT: .COM;.EXE;.BAT;.CMD;.VBS;.VBE;.JS;.JSE;.WSF;.WSH;.MSC;.CPL\n",
      "PSMODULEPATH: C:\\Users\\user\\Documents\\WindowsPowerShell\\Modules;C:\\Program Files\\WindowsPowerShell\\Modules;C:\\WINDOWS\\system32\\WindowsPowerShell\\v1.0\\Modules\n",
      "EFC_24708: 1\n",
      "PROGRAMFILES(X86): C:\\Program Files (x86)\n",
      "PROMPT: (env310) $P$G\n",
      "PYSPARK_HOME: C:\\Users\\user\\AppData\\Local\\Programs\\Python\\Python312\\python.exe\n",
      "OS: Windows_NT\n",
      "PROCESSOR_ARCHITECTURE: AMD64\n",
      "NUMBER_OF_PROCESSORS: 12\n",
      "JAVA_HOME: c:\\jdk\n",
      "COMSPEC: C:\\WINDOWS\\system32\\cmd.exe\n",
      "PROCESSOR_LEVEL: 6\n",
      "_OLD_VIRTUAL_PATH: C:\\Program Files (x86)\\Common Files\\Oracle\\Java\\javapath;C:\\Windows\\system32;C:\\Windows;C:\\Windows\\System32\\Wbem;C:\\Windows\\System32\\WindowsPowerShell\\v1.0\\;C:\\Windows\\System32\\OpenSSH\\;C:\\Program Files (x86)\\NVIDIA Corporation\\PhysX\\Common;C:\\Program Files\\NVIDIA Corporation\\NVIDIA NvDLISR;C:\\Program Files (x86)\\Pulse Secure\\VC142.CRT\\X64\\;C:\\Program Files (x86)\\Pulse Secure\\VC142.CRT\\X86\\;C:\\WINDOWS\\system32;C:\\WINDOWS;C:\\WINDOWS\\System32\\Wbem;C:\\WINDOWS\\System32\\WindowsPowerShell\\v1.0\\;C:\\WINDOWS\\System32\\OpenSSH\\;C:\\Program Files\\Git\\cmd;C:\\Program Files\\Kubernetes\\Minikube;C:\\Users\\user\\AppData\\Roaming\\Microsoft\\Windows\\Start Menu\\Programs\\Kubernetes;C:\\Program Files\\Java\\jre1.8.0_351\\bin;C:\\WINDOWS\\system32;C:\\WINDOWS;C:\\WINDOWS\\System32\\Wbem;C:\\WINDOWS\\System32\\WindowsPowerShell\\v1.0\\;C:\\WINDOWS\\System32\\OpenSSH\\;C:\\gradle\\gradle-8.3\\bin;C:\\Program Files\\Docker\\Docker\\resources\\bin;C:\\Program Files\\PuTTY\\;C:\\Program Files (x86)\\Windows Kits\\10\\Windows Performance Toolkit\\;C:\\Users\\user\\AppData\\Local\\Programs\\Python\\Python312\\Scripts\\;C:\\Users\\user\\AppData\\Local\\Programs\\Python\\Python312\\;C:\\Users\\user\\AppData\\Local\\Microsoft\\WindowsApps;C:\\Program Files\\JetBrains\\PyCharm Community Edition 2021.3\\bin;;C:\\Users\\user\\AppData\\Local\\Programs\\Microsoft VS Code\\bin;C:\\Program Files\\JetBrains\\PyCharm 2022.1.1\\bin;;C:\\spark\\bin;c:\\jdk\\bin;C:\\winutils\\bin;\n",
      "PYCHARM COMMUNITY EDITION: C:\\Program Files\\JetBrains\\PyCharm Community Edition 2021.3\\bin;\n",
      "USERDOMAIN_ROAMINGPROFILE: IS95217\n",
      "WINDIR: C:\\WINDOWS\n",
      "PROGRAMFILES: C:\\Program Files\n",
      "TEMP: C:\\Users\\user\\AppData\\Local\\Temp\n",
      "TMP: C:\\Users\\user\\AppData\\Local\\Temp\n",
      "COMMONPROGRAMFILES(X86): C:\\Program Files (x86)\\Common Files\n",
      "ONEDRIVE: C:\\Users\\user\\OneDrive\n",
      "ONEDRIVECONSUMER: C:\\Users\\user\\OneDrive\n",
      "USERDOMAIN: IS95217\n",
      "SYSTEMDRIVE: C:\n",
      "COMPUTERNAME: IS95217\n",
      "PROGRAMDATA: C:\\ProgramData\n",
      "VIRTUAL_ENV: C:\\Users\\user\\PycharmProjects\\document_qa\\env310\n",
      "COMMONPROGRAMFILES: C:\\Program Files\\Common Files\n",
      "__INTELLIJ_COMMAND_HISTFILE__: C:\\Users\\user\\AppData\\Local\\JetBrains\\PyCharmCE2021.3\\terminal\\history\\document_qa-history\n",
      "PYDEVD_USE_FRAME_EVAL: NO\n",
      "JPY_SESSION_NAME: C:\\Users\\user\\Documents\\_2 Gen AI\\notebooks\\langchain-base.ipynb\n",
      "JPY_INTERRUPT_EVENT: 2992\n",
      "IPY_INTERRUPT_EVENT: 2992\n",
      "JPY_PARENT_PID: 3140\n",
      "TERM: xterm-color\n",
      "CLICOLOR: 1\n",
      "FORCE_COLOR: 1\n",
      "CLICOLOR_FORCE: 1\n",
      "PAGER: cat\n",
      "GIT_PAGER: cat\n",
      "MPLBACKEND: module://matplotlib_inline.backend_inline\n",
      "OPENAI_API_TYPE: azure\n",
      "DEPLOYMENT_NAME: Chatgpt-35\n",
      "AZURE_OPENAI_ENDPOINT: https://softtech-openaitest.openai.azure.com\n",
      "OPENAI_API_KEY: 91d8469b4c654499bdffa38ab45ba793\n",
      "OPENAI_API_VERSION: 2023-09-15-preview\n",
      "MODEL_NAME: gpt-35-turbo\n"
     ]
    }
   ],
   "source": [
    "for key, value in os.environ.items():\n",
    "    print(f\"{key}: {value}\")"
   ]
  },
  {
   "cell_type": "code",
   "execution_count": 20,
   "id": "690b45af-f7d2-414f-90a8-98d2dc567943",
   "metadata": {},
   "outputs": [
    {
     "name": "stdout",
     "output_type": "stream",
     "text": [
      "91d8469b4c654499bdffa38ab45ba793\n"
     ]
    }
   ],
   "source": [
    "print(os.environ['OPENAI_API_KEY'])"
   ]
  },
  {
   "cell_type": "code",
   "execution_count": 17,
   "id": "a7b0ddf8-5710-4e52-9234-6fb21a909df6",
   "metadata": {},
   "outputs": [],
   "source": [
    "import os\n",
    "from openai import AzureOpenAI"
   ]
  },
  {
   "cell_type": "code",
   "execution_count": 22,
   "id": "fd2d47bc-3e1b-45fe-816b-c912366448d5",
   "metadata": {},
   "outputs": [],
   "source": [
    "llm = AzureOpenAI(\n",
    "  azure_endpoint = os.getenv(\"AZURE_OPENAI_ENDPOINT\"), \n",
    "  api_key=os.getenv(\"OPENAI_API_KEY\"),  \n",
    "  api_version=\"2023-05-15\"\n",
    ")"
   ]
  },
  {
   "cell_type": "code",
   "execution_count": 42,
   "id": "b01abc88-1098-4f9f-8faf-46619d1ea2da",
   "metadata": {},
   "outputs": [],
   "source": [
    "def generate(user_message, system_message=\"\"):\n",
    "    \n",
    "    messages=[\n",
    "        {\"role\": \"system\", \"content\": system_message},\n",
    "        {\"role\": \"user\", \"name\":\"example_user\", \"content\": user_message}\n",
    "    ]\n",
    "    response = client.chat.completions.create(\n",
    "                                              model=os.environ['DEPLOYMENT_NAME'], # model = \"deployment_name\".\n",
    "                                              messages=messages,)"
   ]
  },
  {
   "cell_type": "raw",
   "id": "9bdac4d5-b058-400c-92be-6138ae2c04fa",
   "metadata": {},
   "source": [
    "                   \"\"\"\n",
    "                                              temperature=0.5,\n",
    "                                              max_tokens=500,\n",
    "                                              top_p=0.9,\n",
    "                                              frequency_penalty=0,\n",
    "                                              presence_penalty=0,) \n",
    "                                            \"\"\""
   ]
  },
  {
   "cell_type": "code",
   "execution_count": 43,
   "id": "ffafb1bc-6553-464c-9bd8-1e48476995b5",
   "metadata": {},
   "outputs": [
    {
     "name": "stdout",
     "output_type": "stream",
     "text": [
      "None\n"
     ]
    }
   ],
   "source": [
    "print(generate(\"Bir atın kaç bacağı vardır?\"))    "
   ]
  },
  {
   "cell_type": "code",
   "execution_count": null,
   "id": "fe6feaf8-3b3c-4b50-8fe2-9269d514701d",
   "metadata": {},
   "outputs": [],
   "source": []
  }
 ],
 "metadata": {
  "kernelspec": {
   "display_name": "Python 3 (ipykernel)",
   "language": "python",
   "name": "python3"
  },
  "language_info": {
   "codemirror_mode": {
    "name": "ipython",
    "version": 3
   },
   "file_extension": ".py",
   "mimetype": "text/x-python",
   "name": "python",
   "nbconvert_exporter": "python",
   "pygments_lexer": "ipython3",
   "version": "3.10.0"
  }
 },
 "nbformat": 4,
 "nbformat_minor": 5
}
